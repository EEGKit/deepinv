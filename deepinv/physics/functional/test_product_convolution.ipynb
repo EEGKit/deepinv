{
 "cells": [
  {
   "cell_type": "code",
   "execution_count": 3,
   "metadata": {},
   "outputs": [],
   "source": [
    "from deepinv.physics.generator import DiffractionBlurGenerator\n",
    "from src.utils.display_utils import show_images\n",
    "import matplotlib.pyplot as plt\n",
    "from PIL import Image\n",
    "import torch\n",
    "import torchvision.transforms as transform\n",
    "from product_convolution import *"
   ]
  },
  {
   "cell_type": "code",
   "execution_count": 19,
   "metadata": {},
   "outputs": [],
   "source": [
    "device = 'cuda'\n",
    "dtype = torch.float32\n",
    "torch.set_default_device(device)\n",
    "torch.set_default_dtype(dtype)"
   ]
  },
  {
   "cell_type": "markdown",
   "metadata": {},
   "source": [
    "## Plot utils"
   ]
  },
  {
   "cell_type": "code",
   "execution_count": 7,
   "metadata": {},
   "outputs": [],
   "source": [
    "from mpl_toolkits.axes_grid1 import make_axes_locatable\n",
    "from matplotlib import gridspec\n",
    "from torch import Tensor\n",
    "import numpy as np\n",
    "from typing import List, Optional, Tuple, Union\n",
    "import warnings\n",
    "warnings.filterwarnings(\"ignore\", module=\"matplotlib\\..*\")\n",
    "\n",
    "_TensorArray = Union[Tensor, np.ndarray]\n",
    "\n",
    "def to_numpy_image(input):\n",
    "    if isinstance(input, Tensor):\n",
    "        if input.dim() == 3:\n",
    "            return input.detach().cpu().permute(1, 2, 0).numpy()\n",
    "        elif input.dim() == 4:\n",
    "            return input.detach().cpu().permute(0, 2, 3, 1).numpy()\n",
    "\n",
    "    elif isinstance(input, np.ndarray):\n",
    "        print(\"Warning: input is already a numpy array\")\n",
    "        return input\n",
    "    else:\n",
    "        raise ValueError(f\"Cannot convert {type(input)} to numpy image\")\n",
    "def show_images(\n",
    "    imgs: Union[_TensorArray, List[_TensorArray], Tuple[_TensorArray]],\n",
    "    title: List[str] = None,\n",
    "    suptitle: str = None,\n",
    "    ncols: int = None,\n",
    "    colorbar: Optional[bool] = False,\n",
    "    cmap: str = None,\n",
    "    vmin: Optional[float] = None,\n",
    "    vmax: Optional[float] = None,\n",
    "    savename: Optional[str] = None,\n",
    "    figsize: Optional[int] = 3,\n",
    "    interpolation: Optional[str] = None,\n",
    "):\n",
    "\n",
    "    if isinstance(imgs, List) or isinstance(imgs, Tuple):\n",
    "        if isinstance(imgs[0], np.ndarray):\n",
    "            imgs = np.concatenate(imgs, axis=0)\n",
    "        elif isinstance(imgs[0], torch.Tensor):\n",
    "            imgs = to_numpy_image(torch.cat(imgs, dim=0))\n",
    "    else:\n",
    "        imgs = to_numpy_image(imgs)\n",
    "\n",
    "    if imgs.ndim == 3:\n",
    "        H, W, C = imgs.shape\n",
    "        B = 1\n",
    "    elif imgs.ndim == 4:\n",
    "        B, H, W, C = imgs.shape\n",
    "\n",
    "    if (ncols is not None) and (B % ncols == 0):\n",
    "        nrows = B // ncols\n",
    "    else:\n",
    "        nrows = 1\n",
    "        ncols = B\n",
    "    offset = 0 if not colorbar else 0.75\n",
    "    fig = plt.figure(figsize=(ncols * (figsize + offset), nrows * figsize))\n",
    "    gs = gridspec.GridSpec(ncols=ncols, nrows=nrows)\n",
    "    gs.update(wspace=0.025, hspace=0.025)\n",
    "\n",
    "    if cmap is None:\n",
    "        cmap = \"gray\" if C == 1 else None\n",
    "    i = 0\n",
    "\n",
    "    if title is None:\n",
    "        title = [\"\"]\n",
    "    if len(title) != B:\n",
    "        title += [\"\"] * (B - len(title))\n",
    "    with warnings.catch_warnings():\n",
    "        if nrows > 1 and ncols > 1:\n",
    "            for r in range(nrows):\n",
    "                for c in range(ncols):\n",
    "                    axs = plt.subplot(gs[r, c])\n",
    "                    im = axs.imshow(\n",
    "                        imgs[i],\n",
    "                        vmin=vmin,\n",
    "                        vmax=vmax,\n",
    "                        cmap=cmap,\n",
    "                        interpolation=interpolation,\n",
    "                    )\n",
    "                    axs.set_xticks([])\n",
    "                    axs.set_yticks([])\n",
    "                    if colorbar:\n",
    "                        divider = make_axes_locatable(axs)\n",
    "                        cax = divider.append_axes(\"right\", size=\"3%\", pad=0.1)\n",
    "                        plt.colorbar(im, cax=cax)\n",
    "                    if title:\n",
    "                        axs.set_title(title[i], pad=3)\n",
    "\n",
    "                    i += 1\n",
    "        elif nrows > 1 or ncols > 1:\n",
    "            for c in range(max(ncols, nrows)):\n",
    "                axs = plt.subplot(gs[c])\n",
    "                im = axs.imshow(\n",
    "                    imgs[c], vmin=vmin, vmax=vmax, cmap=cmap, interpolation=interpolation\n",
    "                )\n",
    "                axs.set_xticks([])\n",
    "                axs.set_yticks([])\n",
    "                if colorbar:\n",
    "                    divider = make_axes_locatable(axs)\n",
    "                    cax = divider.append_axes(\"right\", size=\"3%\", pad=0.1)\n",
    "                    plt.colorbar(im, cax=cax)\n",
    "                if title:\n",
    "                    axs.set_title(title[c], pad=3)\n",
    "\n",
    "        else:\n",
    "            axs = plt.subplot(gs[0])\n",
    "            im = axs.imshow(\n",
    "                imgs.squeeze(), vmin=vmin, vmax=vmax, cmap=cmap, interpolation=interpolation\n",
    "            )\n",
    "            axs.set_xticks([])\n",
    "            axs.set_yticks([])\n",
    "            if colorbar:\n",
    "                divider = make_axes_locatable(axs)\n",
    "                cax = divider.append_axes(\"right\", size=\"3%\", pad=0.1)\n",
    "                plt.colorbar(im, cax=cax)\n",
    "            if title:\n",
    "                axs.set_title(title[0], pad=3)\n",
    "\n",
    "        if suptitle is not None:\n",
    "            fig.suptitle(suptitle, y=1.03)\n",
    "        if savename is not None:\n",
    "            fig.savefig(savename, bbox_inches='tight')\n",
    "            plt.close()\n",
    "        else:\n",
    "            plt.show()"
   ]
  },
  {
   "cell_type": "markdown",
   "metadata": {},
   "source": [
    "## Test on image\n"
   ]
  },
  {
   "cell_type": "code",
   "execution_count": 8,
   "metadata": {},
   "outputs": [
    {
     "ename": "FileNotFoundError",
     "evalue": "[Errno 2] No such file or directory: '/home/minhhai/Works/datasets/FFHQ/images1024x1024/00003.png'",
     "output_type": "error",
     "traceback": [
      "\u001b[0;31m---------------------------------------------------------------------------\u001b[0m",
      "\u001b[0;31mFileNotFoundError\u001b[0m                         Traceback (most recent call last)",
      "Cell \u001b[0;32mIn[8], line 5\u001b[0m\n\u001b[1;32m      2\u001b[0m path_1 \u001b[38;5;241m=\u001b[39m \u001b[38;5;124m'\u001b[39m\u001b[38;5;124m/home/minhhai/Works/datasets/FFHQ/images1024x1024/00003.png\u001b[39m\u001b[38;5;124m'\u001b[39m\n\u001b[1;32m      3\u001b[0m path_2 \u001b[38;5;241m=\u001b[39m \u001b[38;5;124m'\u001b[39m\u001b[38;5;124m/home/minhhai/Works/datasets/FFHQ/images1024x1024/00014.png\u001b[39m\u001b[38;5;124m'\u001b[39m\n\u001b[0;32m----> 5\u001b[0m image_1 \u001b[38;5;241m=\u001b[39m \u001b[43mImage\u001b[49m\u001b[38;5;241;43m.\u001b[39;49m\u001b[43mopen\u001b[49m\u001b[43m(\u001b[49m\u001b[43mpath_1\u001b[49m\u001b[43m)\u001b[49m\n\u001b[1;32m      6\u001b[0m image_1 \u001b[38;5;241m=\u001b[39m transform\u001b[38;5;241m.\u001b[39mToTensor()(image_1)\n\u001b[1;32m      8\u001b[0m image_2 \u001b[38;5;241m=\u001b[39m Image\u001b[38;5;241m.\u001b[39mopen(path_2)\n",
      "File \u001b[0;32m~/miniforge3/envs/dev/lib/python3.10/site-packages/PIL/Image.py:3247\u001b[0m, in \u001b[0;36mopen\u001b[0;34m(fp, mode, formats)\u001b[0m\n\u001b[1;32m   3244\u001b[0m     filename \u001b[38;5;241m=\u001b[39m fp\n\u001b[1;32m   3246\u001b[0m \u001b[38;5;28;01mif\u001b[39;00m filename:\n\u001b[0;32m-> 3247\u001b[0m     fp \u001b[38;5;241m=\u001b[39m \u001b[43mbuiltins\u001b[49m\u001b[38;5;241;43m.\u001b[39;49m\u001b[43mopen\u001b[49m\u001b[43m(\u001b[49m\u001b[43mfilename\u001b[49m\u001b[43m,\u001b[49m\u001b[43m \u001b[49m\u001b[38;5;124;43m\"\u001b[39;49m\u001b[38;5;124;43mrb\u001b[39;49m\u001b[38;5;124;43m\"\u001b[39;49m\u001b[43m)\u001b[49m\n\u001b[1;32m   3248\u001b[0m     exclusive_fp \u001b[38;5;241m=\u001b[39m \u001b[38;5;28;01mTrue\u001b[39;00m\n\u001b[1;32m   3250\u001b[0m \u001b[38;5;28;01mtry\u001b[39;00m:\n",
      "\u001b[0;31mFileNotFoundError\u001b[0m: [Errno 2] No such file or directory: '/home/minhhai/Works/datasets/FFHQ/images1024x1024/00003.png'"
     ]
    }
   ],
   "source": [
    "# %% TEST PRODUCT-CONVOLUTION\n",
    "path_1 = '/home/minhhai/Works/datasets/FFHQ/images1024x1024/00003.png'\n",
    "path_2 = '/home/minhhai/Works/datasets/FFHQ/images1024x1024/00014.png'\n",
    "\n",
    "image_1 = Image.open(path_1)\n",
    "image_1 = transform.ToTensor()(image_1)\n",
    "\n",
    "image_2 = Image.open(path_2)\n",
    "image_2 = transform.ToTensor()(image_2)\n",
    "\n",
    "image = torch.stack([image_1, image_2], dim=0).cuda()\n",
    "show_images(image)"
   ]
  },
  {
   "cell_type": "code",
   "execution_count": 20,
   "metadata": {},
   "outputs": [
    {
     "data": {
      "image/png": "[encoded data removed]",
      "text/plain": [
       "<Figure size 300x300 with 1 Axes>"
      ]
     },
     "metadata": {},
     "output_type": "display_data"
    }
   ],
   "source": [
    "psf_size = (31, 31)\n",
    "patch_size = (128, 128)\n",
    "overlap = (64, 64)\n",
    "image_size = (512, 512)\n",
    "image = torch.zeros((1,3) + image_size)\n",
    "image[...,30,30] = 1.\n",
    "patches = image_to_patches(image, patch_size, overlap)\n",
    "patch_info = compute_patch_info(image_size, patch_size, overlap)\n",
    "K = patches.size(2) * patches.size(3)\n",
    "\n",
    "\n",
    "generator = DiffractionBlurGenerator(\n",
    "    psf_size, num_channels=3, fc=0.2, device=device, dtype=dtype)\n",
    "h = torch.stack([generator.step(image.size(0))['filter']\n",
    "                 for _ in range(K)], dim=0)\n",
    "masks = unity_partition_function_2d(image.shape[-2:], patch_size, overlap)\n",
    "w, _ = crop_unity_partition_2d(masks, patch_size, overlap, psf_size)\n",
    "w = w.flatten(0,1).unsqueeze(1).unsqueeze(2)\n",
    "\n",
    "# show_images(h.transpose(2,1).flatten(0, 1) ** 0.25, ncols=K)\n",
    "blurry = product_convolution2d_patches(image, w, h, patch_size, overlap)\n",
    "show_images(blurry ** 0.25)"
   ]
  },
  {
   "cell_type": "code",
   "execution_count": 21,
   "metadata": {},
   "outputs": [
    {
     "data": {
      "image/png": "[encoded data removed]",
      "text/plain": [
       "<Figure size 600x300 with 2 Axes>"
      ]
     },
     "metadata": {},
     "output_type": "display_data"
    },
    {
     "data": {
      "image/png": "[encoded data removed]",
      "text/plain": [
       "<Figure size 2250x300 with 12 Axes>"
      ]
     },
     "metadata": {},
     "output_type": "display_data"
    }
   ],
   "source": [
    "position = (45, 68)\n",
    "psf_size = (31, 31)\n",
    "patch_size = (128, 128)\n",
    "overlap = (50, 50)\n",
    "image_size = 256\n",
    "\n",
    "image = torch.zeros(2, 3, image_size, image_size)\n",
    "image[..., position[0]: position[0] + 1, position[1]: position[1] + 1] = 1.\n",
    "show_images(image)\n",
    "info = compute_patch_info(image_size, patch_size, overlap)\n",
    "K = np.prod(info['num_patches'])\n",
    "masks = unity_partition_function_2d(image.shape[-2:], patch_size, overlap)\n",
    "w, _ = crop_unity_partition_2d(masks, patch_size, overlap, psf_size)\n",
    "w = w.flatten(0,1).unsqueeze(1).unsqueeze(2)\n",
    "# w = torch.ones_like(w)\n",
    "h = torch.stack([generator.step(image.size(0))['filter']\n",
    "                 for _ in range(K)], dim=0)\n",
    "blurry = product_convolution2d_patches(image, w, h, patch_size, overlap)\n",
    "\n",
    "psf_pc = blurry[..., position[0] - psf_size[0] + 1: position[0] + 1, position[1] - psf_size[1] + 1:  position[1] + 1]\n",
    "\n",
    "patches = image_to_patches(image, patch_size, overlap)\n",
    "psf = get_psf_product_convolution2d_patches(\n",
    "    h, w, position, overlap, patches.shape[2:4])\n",
    "\n",
    "diff = psf_pc[:,0:1,...] - psf[:,0:1,...]\n",
    "show_images(torch.cat((psf_pc[:,0:1,...], psf[:,0:1,...], diff), dim = 0) ** 0.25, colorbar=True, suptitle=f'Norm Diff: {torch.norm(diff).item():.5f}')\n"
   ]
  },
  {
   "cell_type": "code",
   "execution_count": 8,
   "metadata": {},
   "outputs": [],
   "source": [
    "psf_size = (31, 31)\n",
    "patch_size = (128, 128)\n",
    "overlap = (64, 64)\n",
    "image_size = 256\n",
    "image = torch.zeros(2, 3, image_size, image_size, device=device)\n",
    "\n",
    "masks = unity_partition_function_2d(image.shape[-2:], patch_size, overlap)\n",
    "w, _ = crop_unity_partition_2d(masks, patch_size, overlap, psf_size)\n",
    "w = w.flatten(0,1).unsqueeze(1).unsqueeze(2)\n",
    "\n",
    "K = np.prod(compute_patch_info(image_size, patch_size, overlap)['num_patches'])\n",
    "h = torch.stack([generator.step(image.size(0))['filter']\n",
    "                 for _ in range(K)], dim=0)\n",
    "\n",
    "for i in range(psf_size[0], 256 - psf_size[0]):\n",
    "    for j in range(psf_size[1], 256 - psf_size[1]):\n",
    "        position = (i, j)\n",
    "        image = torch.zeros(2, 3, 256, 256)\n",
    "        image[..., position[0]: position[0] + 1, position[1]: position[1] + 1] = 1.\n",
    "        blurry = product_convolution2d_patches(image, w, h, patch_size, overlap)\n",
    "\n",
    "        psf_pc = blurry[..., position[0] - psf_size[0] + 1: position[0] + 1, position[1] - psf_size[1] + 1:  position[1] + 1]\n",
    "\n",
    "        patches = image_to_patches(image, patch_size, overlap)\n",
    "        psf = get_psf_product_convolution2d_patches(\n",
    "            h, w, position, overlap, patches.shape[2:4])\n",
    "\n",
    "        diff = psf_pc[:,0:1,...] - psf[:,0:1,...]\n",
    "        if torch.norm(diff) > 1e-5:\n",
    "            print(f'{i, j}: ', torch.norm(diff))"
   ]
  },
  {
   "cell_type": "markdown",
   "metadata": {},
   "source": [
    "## TEST ADJOINTNESS "
   ]
  },
  {
   "cell_type": "code",
   "execution_count": 27,
   "metadata": {},
   "outputs": [
    {
     "name": "stdout",
     "output_type": "stream",
     "text": [
      "Ax:  torch.Size([1, 3, 482, 482])\n",
      "ATy:  torch.Size([1, 3, 512, 512])\n",
      "tensor(-0.0052, device='cuda:0')\n",
      "tensor(4.1235e-05, device='cuda:0')\n"
     ]
    }
   ],
   "source": [
    "import numpy as np\n",
    "\n",
    "image_size = 555\n",
    "patch_size = 224\n",
    "overlap = 80\n",
    "psf_size = 31\n",
    "\n",
    "x = torch.randn((1,3,image_size, image_size), device=device)\n",
    "# x = image\n",
    "patch_info = compute_patch_info(image_size, patch_size, overlap)\n",
    "K = np.prod(patch_info['num_patches'])\n",
    "\n",
    "generator = DiffractionBlurGenerator(\n",
    "    (psf_size, psf_size), num_channels=3, fc=0.2, device=device, dtype=dtype)\n",
    "h = torch.stack([generator.step(x.size(0))['filter']\n",
    "                 for _ in range(K)], dim=0)\n",
    "masks = unity_partition_function_2d(image_size, patch_size, overlap)\n",
    "w, _ = crop_unity_partition_2d(masks, patch_size, overlap, psf_size)\n",
    "w = w.flatten(0,1).unsqueeze(1).unsqueeze(2)\n",
    "\n",
    "\n",
    "Ax = product_convolution2d_patches(x, w, h, patch_size, overlap)\n",
    "y = torch.randn_like(Ax)\n",
    "ATy = product_convolution2d_adjoint_patches(y, w, h, patch_size, overlap)\n",
    "\n",
    "# left = torch.sum((Ax * y)[...,psf_size//2:-psf_size//2, psf_size//2:-psf_size//2].flatten(1,-1))\n",
    "left = torch.sum((Ax * y).flatten(1,-1))\n",
    "\n",
    "max_size = patch_info['max_size']\n",
    "x_crop = x[...,:max_size[0],:max_size[1]]\n",
    "# right = torch.sum((ATy * x_crop)[...,psf_size//2:-psf_size//2, psf_size//2:-psf_size//2].flatten(1,-1))\n",
    "right = torch.sum((ATy * x_crop).flatten(1,-1))\n",
    "\n",
    "print('Ax: ', Ax.shape)\n",
    "print('ATy: ', ATy.shape)\n",
    "# print(left)\n",
    "print(left - right)\n",
    "print(torch.abs((left - right) / right))\n"
   ]
  },
  {
   "cell_type": "markdown",
   "metadata": {},
   "source": [
    "## Time"
   ]
  },
  {
   "cell_type": "code",
   "execution_count": 35,
   "metadata": {},
   "outputs": [],
   "source": [
    "from torch.utils.benchmark import Timer\n"
   ]
  },
  {
   "cell_type": "code",
   "execution_count": 4,
   "metadata": {},
   "outputs": [],
   "source": [
    "psf_size = 31\n",
    "image_size = 1024 \n",
    "patch_size = 256 \n",
    "overlap = 128\n",
    "batch_size = 1\n",
    "patch_info = compute_patch_info(image_size, patch_size, overlap)\n",
    "K = np.prod(patch_info['num_patches'])\n",
    "\n",
    "x = torch.randn((batch_size, 3, image_size, image_size))\n",
    "\n",
    "\n",
    "generator = DiffractionBlurGenerator(\n",
    "    (psf_size, psf_size), num_channels=3, fc=0.2, device=device, dtype=dtype)\n",
    "\n",
    "masks = unity_partition_function_2d(image_size, patch_size, overlap)\n",
    "w, _ = crop_unity_partition_2d(masks, patch_size, overlap, psf_size)\n",
    "w = w.flatten(0,1).unsqueeze(1).unsqueeze(2)\n",
    "\n",
    "def simulate_a_batch(batch_size, image_size):\n",
    "    h = generator.step(batch_size * K)['filter']\n",
    "    h = h.view(K, batch_size, h.size(1), h.size(2), h.size(3))\n",
    "    Ax = product_convolution2d_patches(x, w, h, patch_size, overlap)   \n",
    "    "
   ]
  },
  {
   "cell_type": "code",
   "execution_count": 5,
   "metadata": {},
   "outputs": [
    {
     "data": {
      "text/plain": [
       "<torch.utils.benchmark.utils.common.Measurement object at 0x784b16078f70>\n",
       "simulate_a_batch(batch_size, image_size)\n",
       "  Median: 51.92 ms\n",
       "  IQR:    1.93 ms (51.14 to 53.07)\n",
       "  10 measurements, 10 runs per measurement, 1 thread"
      ]
     },
     "execution_count": 5,
     "metadata": {},
     "output_type": "execute_result"
    }
   ],
   "source": [
    "timer = Timer(stmt='simulate_a_batch(batch_size, image_size)',\n",
    "    globals=globals())\n",
    "timer.blocked_autorange(min_run_time=5)\n"
   ]
  },
  {
   "cell_type": "code",
   "execution_count": 63,
   "metadata": {},
   "outputs": [],
   "source": [
    "image_size = 1024\n",
    "patch_size = 256\n",
    "overlap = 128\n",
    "psf_size = 31\n",
    "\n",
    "from deepinv.physics.generator import ProductConvolutionPatchBlurGenerator\n",
    "from deepinv.physics import SpaceVaryingBlur\n",
    "\n",
    "psf_generator = DiffractionBlurGenerator(\n",
    "    (psf_size, psf_size), num_channels=3, fc=0.2, device=device, dtype=dtype)\n",
    "\n",
    "pc_generator = ProductConvolutionPatchBlurGenerator(\n",
    "    psf_generator=psf_generator,\n",
    "    image_size=image_size,\n",
    "    patch_size=patch_size,\n",
    "    overlap=overlap,\n",
    "    device=device\n",
    ")\n",
    "params_pc = pc_generator.step(1)\n",
    "physics = SpaceVaryingBlur(method=\"product_convolution2d_patch\",\n",
    "                           patch_size= patch_size, \n",
    "                           overlap=overlap,\n",
    "                            **params_pc, )\n",
    "physics(torch.randn(1,3,1024,1024)).shape\n",
    "\n",
    "batch_size = 8\n",
    "n_patch = 32\n",
    "params = pc_generator.step(batch_size)\n",
    "centers = torch.randint(patch_size //2, image_size - patch_size // 2, size = (batch_size, n_patch, 2))\n"
   ]
  },
  {
   "cell_type": "code",
   "execution_count": 88,
   "metadata": {},
   "outputs": [
    {
     "name": "stdout",
     "output_type": "stream",
     "text": [
      "torch.Size([256, 1, 3, 31, 31])\n"
     ]
    }
   ],
   "source": [
    "psf_1 = physics.get_psf(centers, **params)\n",
    "print(psf_1.shape)"
   ]
  },
  {
   "cell_type": "code",
   "execution_count": 65,
   "metadata": {},
   "outputs": [
    {
     "name": "stdout",
     "output_type": "stream",
     "text": [
      "torch.Size([8, 32, 3, 31, 31])\n"
     ]
    }
   ],
   "source": [
    "psf_2 = physics.get_psf_2(centers, **params)\n",
    "print(psf_2.shape)"
   ]
  },
  {
   "cell_type": "code",
   "execution_count": 87,
   "metadata": {},
   "outputs": [
    {
     "name": "stdout",
     "output_type": "stream",
     "text": [
      "torch.Size([8, 32, 3, 31, 31])\n"
     ]
    }
   ],
   "source": [
    "psf_3 = physics.get_psf_3(centers, **params)\n",
    "print(psf_3.shape)"
   ]
  },
  {
   "cell_type": "code",
   "execution_count": 89,
   "metadata": {},
   "outputs": [
    {
     "name": "stdout",
     "output_type": "stream",
     "text": [
      "True\n",
      "True\n"
     ]
    }
   ],
   "source": [
    "print(torch.allclose(psf_1.flatten(0,1), psf_2.flatten(0,1)))\n",
    "print(torch.allclose(psf_1.flatten(0,1), psf_3.flatten(0,1)))"
   ]
  },
  {
   "cell_type": "code",
   "execution_count": 69,
   "metadata": {},
   "outputs": [
    {
     "data": {
      "text/plain": [
       "<torch.utils.benchmark.utils.common.Measurement object at 0x7e4c042317b0>\n",
       "physics.get_psf(centers, **params)\n",
       "  Median: 76.18 ms\n",
       "  IQR:    1.91 ms (74.99 to 76.89)\n",
       "  66 measurements, 1 runs per measurement, 1 thread"
      ]
     },
     "execution_count": 69,
     "metadata": {},
     "output_type": "execute_result"
    }
   ],
   "source": [
    "timer = Timer(stmt='physics.get_psf(centers, **params)',\n",
    "    globals=globals())\n",
    "timer.blocked_autorange(min_run_time=5)"
   ]
  },
  {
   "cell_type": "code",
   "execution_count": 70,
   "metadata": {},
   "outputs": [
    {
     "data": {
      "text/plain": [
       "<torch.utils.benchmark.utils.common.Measurement object at 0x7e4c04232f20>\n",
       "physics.get_psf_2(centers, **params)\n",
       "  Median: 8.68 ms\n",
       "  IQR:    0.19 ms (8.57 to 8.76)\n",
       "  58 measurements, 10 runs per measurement, 1 thread"
      ]
     },
     "execution_count": 70,
     "metadata": {},
     "output_type": "execute_result"
    }
   ],
   "source": [
    "timer = Timer(stmt='physics.get_psf_2(centers, **params)',\n",
    "    globals=globals())\n",
    "timer.blocked_autorange(min_run_time=5)"
   ]
  },
  {
   "cell_type": "code",
   "execution_count": 73,
   "metadata": {},
   "outputs": [
    {
     "data": {
      "text/plain": [
       "<torch.utils.benchmark.utils.common.Measurement object at 0x7e4c042335b0>\n",
       "physics.get_psf_3(centers, **params)\n",
       "  Median: 3.95 ms\n",
       "  IQR:    1.20 ms (3.63 to 4.83)\n",
       "  119 measurements, 10 runs per measurement, 1 thread\n",
       "  WARNING: Interquartile range is 30.4% of the median measurement.\n",
       "           This suggests significant environmental influence."
      ]
     },
     "execution_count": 73,
     "metadata": {},
     "output_type": "execute_result"
    }
   ],
   "source": [
    "timer = Timer(stmt='physics.get_psf_3(centers, **params)',\n",
    "    globals=globals())\n",
    "timer.blocked_autorange(min_run_time=5)"
   ]
  },
  {
   "cell_type": "code",
   "execution_count": 42,
   "metadata": {},
   "outputs": [],
   "source": [
    "def func(a, b):\n",
    "    return a * b"
   ]
  },
  {
   "cell_type": "code",
   "execution_count": 43,
   "metadata": {},
   "outputs": [
    {
     "name": "stdout",
     "output_type": "stream",
     "text": [
      "tensor([[-0.0239,  3.6205, -0.8132, -2.0399, -0.8391],\n",
      "        [-2.5667, -1.1048,  0.8330,  4.4954, -0.0340],\n",
      "        [ 6.1241,  4.2416,  1.0668,  4.4354, -1.6159],\n",
      "        [ 0.1910, -1.9419,  0.2449, -0.1489,  5.1572],\n",
      "        [ 1.5072,  0.2146, -1.0960,  6.1657,  0.0330]], device='cuda:0')\n"
     ]
    }
   ],
   "source": [
    "a = torch.randn(2,3,5,5)\n",
    "b = torch.randn(2,3,5,5)\n",
    "out = 0\n",
    "for i in range(a.size(0)):\n",
    "    for j in range(a.size(1)):\n",
    "        out += func(a[i,j], b[i,j])\n",
    "\n",
    "print(out)"
   ]
  },
  {
   "cell_type": "code",
   "execution_count": 66,
   "metadata": {},
   "outputs": [
    {
     "data": {
      "text/plain": [
       "tensor([[-0.0239,  3.6205, -0.8132, -2.0399, -0.8391],\n",
       "        [-2.5667, -1.1048,  0.8330,  4.4954, -0.0340],\n",
       "        [ 6.1241,  4.2416,  1.0668,  4.4354, -1.6159],\n",
       "        [ 0.1910, -1.9419,  0.2449, -0.1489,  5.1572],\n",
       "        [ 1.5072,  0.2146, -1.0960,  6.1657,  0.0330]], device='cuda:0')"
      ]
     },
     "execution_count": 66,
     "metadata": {},
     "output_type": "execute_result"
    }
   ],
   "source": [
    "from functools import partial\n",
    "func_vmap = torch.vmap(torch.vmap(func, in_dims=(0, 0)), in_dims=(0, 0))\n",
    "func_vmap(a, b).sum(dim=(0,1))"
   ]
  }
 ],
 "metadata": {
  "kernelspec": {
   "display_name": "dev",
   "language": "python",
   "name": "python3"
  },
  "language_info": {
   "codemirror_mode": {
    "name": "ipython",
    "version": 3
   },
   "file_extension": ".py",
   "mimetype": "text/x-python",
   "name": "python",
   "nbconvert_exporter": "python",
   "pygments_lexer": "ipython3",
   "version": "3.10.13"
  }
 },
 "nbformat": 4,
 "nbformat_minor": 2
}
